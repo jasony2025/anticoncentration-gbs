import numpy as np
import scipy
import math
import sympy
import matplotlib.pyplot as plt

print("hi")

n = 8
k = 3 #Note restriction that 1 <= k <= n
# s = 0.6585
s = 0.05

m = 3
n = 2
N = m + n
T = []
for i in range(0, 2*N):
    x = []
    for j in range(0, 2*N):
        if i == j:
            if i < 2*m:
                x.append(1)
            elif i >= 2*m and i%2 == 0 and i == j:
                x.append(1)
            else:
                x.append(-1)
        else:
            x.append(0)
    T.append(x)
T = np.matrix(T)
print(T)




# omega = []
# for i in range(0, k):
#     x = []
#     for j in range(0, 2*k):
#         if (i + k == j):
#             x.append(1)
#         else:
#             x.append(0)
#     omega.append(x)
# for i in range(k, 2*k):
#     x = []
#     for j in range(0, 2*k):
#         if (i - k == j):
#             x.append(-1)
#         else:
#             x.append(0)
#     omega.append(x)
# omega = np.matrix(omega)

# # pi is nxn
# pi = []
# for i in range(0, k):
#     x = []
#     for j in range(0, n):
#         if (i == j):
#             x.append(1)
#         else:
#             x.append(0)
#     pi.append(x)

# for i in range(k, n):
#     x = []
#     for j in range(0, n):
#         x.append(0)
#     pi.append(x)
# pi = np.matrix(pi)

# piH = np.vstack((np.hstack((pi, np.zeros([n, n]))), np.hstack((np.zeros([n, n]), pi))))

# #P is kxn
# P = []
# for i in range(0, k):
#     x = []
#     for j in range(0, n):
#         if (i == j):
#             x.append(1)
#         else:
#             x.append(0)
#     P.append(x)
# P = np.matrix(P)

# U = unitary_group.rvs(n) # U is nxn
# Ubar = np.conj(U)
# Udag = np.conj(U).T

# # M is 2k x 2k
# M = np.matrix(np.vstack((np.hstack((P@np.real(Ubar@Udag)@P.T, P@np.imag(Ubar@Udag)@P.T)), np.hstack((P@np.imag(Ubar@Udag)@P.T, -1*P@np.real(Ubar@Udag)@P.T)))))
# W = pi@U@U.T@pi@U.conj()@U.conj().T@pi

# Id = np.identity(2*k)
# sigma = np.cosh(2*s) * Id + np.sinh(2*s) * M
